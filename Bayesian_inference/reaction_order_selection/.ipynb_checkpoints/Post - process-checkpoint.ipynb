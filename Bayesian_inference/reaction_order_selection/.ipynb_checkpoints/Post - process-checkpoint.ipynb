{
 "cells": [
  {
   "cell_type": "code",
   "execution_count": 1,
   "metadata": {
    "ExecuteTime": {
     "end_time": "2023-02-08T18:28:01.633646Z",
     "start_time": "2023-02-08T18:28:01.006981Z"
    }
   },
   "outputs": [],
   "source": [
    "%load_ext autoreload\n",
    "%autoreload 2\n",
    "\n",
    "import numpy as np\n",
    "import pandas as pd\n",
    "import matplotlib.pyplot as plt\n",
    "from tqdm import trange"
   ]
  },
  {
   "cell_type": "code",
   "execution_count": 5,
   "metadata": {
    "ExecuteTime": {
     "end_time": "2023-02-08T18:28:43.868732Z",
     "start_time": "2023-02-08T18:28:43.821598Z"
    }
   },
   "outputs": [],
   "source": [
    "range_m = [0, 2]"
   ]
  },
  {
   "cell_type": "code",
   "execution_count": 6,
   "metadata": {
    "ExecuteTime": {
     "end_time": "2023-02-08T18:28:44.069319Z",
     "start_time": "2023-02-08T18:28:44.043397Z"
    }
   },
   "outputs": [],
   "source": [
    "evids = np.zeros((3, 3))\n",
    "for i in range(3):\n",
    "    for j in range(3):\n",
    "        evid = np.load(f'./data/O1O2O3_M={i}{j}.npy')[-1]\n",
    "        evids[i][j] = evid\n",
    "evids = evids / evids.sum()"
   ]
  },
  {
   "cell_type": "code",
   "execution_count": 7,
   "metadata": {
    "ExecuteTime": {
     "end_time": "2023-02-08T18:28:44.615733Z",
     "start_time": "2023-02-08T18:28:44.469749Z"
    }
   },
   "outputs": [
    {
     "data": {
      "image/png": "[encoded data removed]",
      "text/plain": [
       "<Figure size 1440x360 with 2 Axes>"
      ]
     },
     "metadata": {
      "needs_background": "light"
     },
     "output_type": "display_data"
    }
   ],
   "source": [
    "plt.figure(figsize=(20,5))\n",
    "for i in range(1):\n",
    "    plt.subplot(1, 3, i+1)\n",
    "    plt.imshow(evids.T, origin='lower')\n",
    "    plt.xlabel('$m_1$', fontsize=20)\n",
    "    plt.ylabel('$m_2$', fontsize=20)\n",
    "    ax = plt.gca()\n",
    "    ax.set_xticks(np.arange(0, 3, 1), minor=False);\n",
    "    ax.set_yticks(np.arange(0, 3, 1), minor=False);\n",
    "    ax.set_xticklabels([0,1,2])\n",
    "    ax.set_yticklabels([0,1,2])\n",
    "    plt.colorbar()\n",
    "# #     plt.scatter(m_true[draw_idx[0]-3]-1, m_true[draw_idx[1]-3]-1, c='red')\n",
    "    plt.xlim(range_m[0]-0.5, range_m[1]+0.5)\n",
    "    plt.ylim(range_m[0]-0.5, range_m[1]+0.5)\n",
    "#     plt.scatter(trace['m'][idx, 0], trace['m'][idx, 1], c='orangered')\n",
    "# plt.savefig('chromium_m_evid_350nm_fixR.pdf', bbox_inches='tight')\n",
    "plt.show()"
   ]
  },
  {
   "cell_type": "code",
   "execution_count": null,
   "metadata": {},
   "outputs": [],
   "source": []
  }
 ],
 "metadata": {
  "hide_input": false,
  "kernelspec": {
   "display_name": "Python 3",
   "language": "python",
   "name": "python3"
  },
  "language_info": {
   "codemirror_mode": {
    "name": "ipython",
    "version": 3
   },
   "file_extension": ".py",
   "mimetype": "text/x-python",
   "name": "python",
   "nbconvert_exporter": "python",
   "pygments_lexer": "ipython3",
   "version": "3.7.6"
  },
  "toc": {
   "base_numbering": 1,
   "nav_menu": {},
   "number_sections": true,
   "sideBar": true,
   "skip_h1_title": false,
   "title_cell": "Table of Contents",
   "title_sidebar": "Contents",
   "toc_cell": false,
   "toc_position": {},
   "toc_section_display": true,
   "toc_window_display": false
  },
  "varInspector": {
   "cols": {
    "lenName": 16,
    "lenType": 16,
    "lenVar": 40
   },
   "kernels_config": {
    "python": {
     "delete_cmd_postfix": "",
     "delete_cmd_prefix": "del ",
     "library": "var_list.py",
     "varRefreshCmd": "print(var_dic_list())"
    },
    "r": {
     "delete_cmd_postfix": ") ",
     "delete_cmd_prefix": "rm(",
     "library": "var_list.r",
     "varRefreshCmd": "cat(var_dic_list()) "
    }
   },
   "types_to_exclude": [
    "module",
    "function",
    "builtin_function_or_method",
    "instance",
    "_Feature"
   ],
   "window_display": false
  }
 },
 "nbformat": 4,
 "nbformat_minor": 2
}
