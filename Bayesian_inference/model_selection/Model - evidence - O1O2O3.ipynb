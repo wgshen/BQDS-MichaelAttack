{
 "cells": [
  {
   "cell_type": "code",
   "execution_count": null,
   "metadata": {
    "ExecuteTime": {
     "end_time": "2023-02-08T17:09:45.254631Z",
     "start_time": "2023-02-08T17:09:44.840096Z"
    }
   },
   "outputs": [],
   "source": [
    "%load_ext autoreload\n",
    "%autoreload 2\n",
    "\n",
    "import numpy as np\n",
    "import pandas as pd\n",
    "import matplotlib.pyplot as plt\n",
    "from tqdm import trange\n",
    "\n",
    "def normpdf(x, loc=0, scale=1):\n",
    "    return 1 / np.sqrt(2*np.pi) / scale * np.exp(-(x-loc)**2 / 2 / scale**2)\n",
    "\n",
    "def normlogpdf(x, loc=0, scale=1):\n",
    "    return np.log(1 / np.sqrt(2*np.pi) / scale) - (x-loc)**2 / 2 / scale**2"
   ]
  },
  {
   "cell_type": "code",
   "execution_count": null,
   "metadata": {
    "ExecuteTime": {
     "end_time": "2023-02-08T17:13:50.890912Z",
     "start_time": "2023-02-08T17:13:50.854883Z"
    }
   },
   "outputs": [],
   "source": [
    "k_base = 1e-8\n",
    "range_k_log = [2, 6]\n",
    "range_m = [0, 2]\n",
    "range_r = [1/3.0, 0]\n",
    "noise_scale_base = 0.0096\n",
    "noise_scale_ratio = 0.\n",
    "    \n",
    "def get_init_species(init_c):\n",
    "    O1 = init_c[0]\n",
    "    O2 = 0.0\n",
    "    O3 = 0.0\n",
    "    Cr = init_c[1]\n",
    "    return np.array([O1, O2, O3, Cr])\n",
    "\n",
    "# RK4 to simulate the decay model\n",
    "def get_species(k1_log, k2_log, m1, m2, r7, init_c, n_data):\n",
    "    k1 = 10**(k1_log) * k_base\n",
    "    k2 = 10**(k2_log) * k_base\n",
    "    specie = get_init_species(init_c)\n",
    "    specie[-1] -= r7 * specie[0]\n",
    "    species = [specie]\n",
    "    A_inv = np.eye(3)\n",
    "    b = np.zeros(3)\n",
    "    for t in range(n_data):\n",
    "        specie_old = np.copy(specie)[:3]\n",
    "        dspecies = []\n",
    "        for tt in range(4):\n",
    "            b[:] = [-k1*specie[0]**m1, k1*specie[0]**m1 - k2*specie[1]**m2,\n",
    "                    k2*specie[1]**m2]\n",
    "            dspecie = A_inv.dot(b)\n",
    "            dspecies.append(dspecie)\n",
    "            if tt in (0, 1):\n",
    "                specie = specie_old + dspecie * dt / 2\n",
    "            elif tt == 2:\n",
    "                specie = specie_old + dspecie * dt\n",
    "            else:\n",
    "                specie = specie_old + (dspecies[0] + 2 * dspecies[1] \n",
    "                                       + 2 * dspecies[2] + dspecies[3]) * dt / 6\n",
    "        O1, O2, O3 = specie\n",
    "        specie = np.append(specie, init_c[1] - r7 * O1 - r7 * O2 * 2 - r7 * O3 * 3)\n",
    "        species.append(specie.copy())\n",
    "    return np.array(species)\n",
    "\n",
    "def get_spectra(k_log, m, r7):\n",
    "    k1_log, k2_log = k_log\n",
    "    m1, m2 = m\n",
    "    spectra = np.array([])\n",
    "    for k in range(n_set):\n",
    "        species = get_species(k1_log, k2_log, m1, m2, r7, init_cs[k], n_datas[k])\n",
    "        Cr = species[:, -1]\n",
    "        tf = (Cr >= cs_Cr[1]).astype(int)\n",
    "        sp_Cr = (sps_Cr[tf+1] - sps_Cr[tf]) * ((Cr - cs_Cr[tf]) / (cs_Cr[tf+1] - cs_Cr[tf])).reshape(-1, 1) + sps_Cr[tf]\n",
    "        spectra = np.append(spectra, sp_Cr.flatten())\n",
    "    \n",
    "    return spectra\n",
    "\n",
    "def get_spectra_noise(g):\n",
    "    return noise_scale_base + noise_scale_ratio * np.abs(g)"
   ]
  },
  {
   "cell_type": "code",
   "execution_count": null,
   "metadata": {
    "ExecuteTime": {
     "end_time": "2023-02-08T17:26:56.640501Z",
     "start_time": "2023-02-08T17:26:52.157752Z"
    }
   },
   "outputs": [],
   "source": [
    "# load standard spectrum of Cr\n",
    "data_Cr = np.load('../spectra/7+.npy', allow_pickle=True).item()\n",
    "cs_Cr = np.array(list(data_Cr.keys()))\n",
    "sps_Cr = list(data_Cr.values())\n",
    "\n",
    "# load spectra\n",
    "n_set = 4\n",
    "init_cs = (\n",
    "    (\n",
    "        0.2, # BQDS \n",
    "        0.4  # K2Cr2O7\n",
    "    ),\n",
    "    (\n",
    "        0.25,\n",
    "        0.4\n",
    "    ),\n",
    "    (\n",
    "        0.2,\n",
    "        0.5\n",
    "    ),\n",
    "    (\n",
    "        0.3,\n",
    "        0.5\n",
    "    )\n",
    ")\n",
    "file_names = [\"../spectra/0.4 mM K2Cr2O7 0.2 mM BQDS/03 0.2 mM BQDS 0.4 mM K2Cr2O7 1 M H2SO4 5 min_Absorbance\",\n",
    "              \"../spectra/0.4 mM K2Cr2O7 0.25 mM BQDS/03 0.4 mM K2Cr2O7 0.25 M BQDS 1 M H2SO4 5 min_Absorbance\",\n",
    "              \"../spectra/0.5 mM K2Cr2O7 0.2 mM BQDS/03 0.5 mM K2Cr2O7 0.2 mM BQDS 1 M H2SO4 5 min_Absorbance\",\n",
    "              \"../spectra/0.5 mM K2Cr2O7 0.3 mM BQDS/03 0.5 mM K2Cr2O7 0.3 mM BQDS 1 M H2SO4 5 min_Absorbance\"]\n",
    "zeros = [3, 4, 4, 4]\n",
    "n_datas = [288, 280, 88, 224]\n",
    "\n",
    "dt = 5 * 60\n",
    "idxs = [437]\n",
    "spectras = []\n",
    "data = np.array([])\n",
    "for k in range(n_set):\n",
    "    spectra = []\n",
    "    for i in range(n_datas[k] + 1):\n",
    "        if zeros[k] == 3:\n",
    "            file = open(file_names[k] + \"_{:03}.txt\".format(i))\n",
    "        elif zeros[k] == 4:\n",
    "            file = open(file_names[k] + \"_{:04}.txt\".format(i))\n",
    "        lines = file.readlines()[14:]\n",
    "        spectrum = []\n",
    "        for d in lines:\n",
    "            tmp = d.split()\n",
    "            for j in range(len(tmp)):\n",
    "                tmp[j] = float(tmp[j])\n",
    "            spectrum.append(tmp)\n",
    "        spectra.append(spectrum)\n",
    "    spectra = np.array(spectra)\n",
    "    spectras.append(spectra)\n",
    "    data = np.append(data, spectra[:, idxs, 1].flatten())\n",
    "sps_Cr = np.array([sp[idxs, 1] for sp in sps_Cr])"
   ]
  },
  {
   "cell_type": "code",
   "execution_count": null,
   "metadata": {
    "ExecuteTime": {
     "end_time": "2023-02-08T17:27:39.672275Z",
     "start_time": "2023-02-08T17:27:39.651328Z"
    }
   },
   "outputs": [],
   "source": [
    "def generate_prior():\n",
    "    k_log = np.random.uniform(*range_k_log, 2)\n",
    "    m = np.random.randint(range_m[0], range_m[1] + 1, 2)\n",
    "    r7 = 1 / 3.0\n",
    "    return k_log, m, r7\n",
    "\n",
    "def get_likeli(*args):\n",
    "    interval = 10\n",
    "    g = get_spectra(*args)[::interval]\n",
    "    noise = get_spectra_noise(g)\n",
    "    loglikeli = normlogpdf(g, data[::interval], noise)\n",
    "    return np.exp(loglikeli.sum())"
   ]
  },
  {
   "cell_type": "code",
   "execution_count": null,
   "metadata": {
    "ExecuteTime": {
     "end_time": "2023-02-08T17:28:08.869994Z",
     "start_time": "2023-02-08T17:27:40.075712Z"
    },
    "scrolled": true
   },
   "outputs": [],
   "source": [
    "np.random.seed(0)\n",
    "likelis = []\n",
    "n_sample = 0\n",
    "evid = 0\n",
    "evids = []\n",
    "while n_sample <= 1e6:\n",
    "    n_sample += 1\n",
    "    prior = generate_prior()\n",
    "    likeli = get_likeli(*prior)\n",
    "    if np.isnan(likeli):\n",
    "        n_sample -= 1\n",
    "        continue\n",
    "    likelis.append(likeli)\n",
    "    evid += likeli\n",
    "    if n_sample % 100 == 0:\n",
    "        print(n_sample, evid / n_sample)\n",
    "        evids.append(evid / n_sample)"
   ]
  },
  {
   "cell_type": "code",
   "execution_count": null,
   "metadata": {
    "ExecuteTime": {
     "end_time": "2022-08-24T17:36:59.634083Z",
     "start_time": "2022-08-24T17:36:59.591218Z"
    }
   },
   "outputs": [],
   "source": [
    "np.save('./data/model_evidence_O1O2O3', evids)"
   ]
  }
 ],
 "metadata": {
  "hide_input": false,
  "kernelspec": {
   "display_name": "Python [conda env:pycharm]",
   "language": "python",
   "name": "conda-env-pycharm-py"
  },
  "language_info": {
   "codemirror_mode": {
    "name": "ipython",
    "version": 3
   },
   "file_extension": ".py",
   "mimetype": "text/x-python",
   "name": "python",
   "nbconvert_exporter": "python",
   "pygments_lexer": "ipython3",
   "version": "3.7.4"
  },
  "toc": {
   "base_numbering": 1,
   "nav_menu": {},
   "number_sections": true,
   "sideBar": true,
   "skip_h1_title": false,
   "title_cell": "Table of Contents",
   "title_sidebar": "Contents",
   "toc_cell": false,
   "toc_position": {},
   "toc_section_display": true,
   "toc_window_display": false
  },
  "varInspector": {
   "cols": {
    "lenName": 16,
    "lenType": 16,
    "lenVar": 40
   },
   "kernels_config": {
    "python": {
     "delete_cmd_postfix": "",
     "delete_cmd_prefix": "del ",
     "library": "var_list.py",
     "varRefreshCmd": "print(var_dic_list())"
    },
    "r": {
     "delete_cmd_postfix": ") ",
     "delete_cmd_prefix": "rm(",
     "library": "var_list.r",
     "varRefreshCmd": "cat(var_dic_list()) "
    }
   },
   "types_to_exclude": [
    "module",
    "function",
    "builtin_function_or_method",
    "instance",
    "_Feature"
   ],
   "window_display": false
  }
 },
 "nbformat": 4,
 "nbformat_minor": 2
}
